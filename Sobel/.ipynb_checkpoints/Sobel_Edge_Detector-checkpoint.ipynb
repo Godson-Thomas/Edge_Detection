{
 "cells": [
  {
   "cell_type": "code",
   "execution_count": 1,
   "metadata": {},
   "outputs": [
    {
     "name": "stdout",
     "output_type": "stream",
     "text": [
      "(164, 308, 3)\n",
      "\n",
      "\n",
      "[[[112 100  98]\n",
      "  [115 103 101]\n",
      "  [122 112 112]\n",
      "  ...\n",
      "  [ 99 122 130]\n",
      "  [102 125 133]\n",
      "  [101 124 132]]\n",
      "\n",
      " [[110  98  96]\n",
      "  [115 103 101]\n",
      "  [122 112 112]\n",
      "  ...\n",
      "  [ 96 119 127]\n",
      "  [101 124 132]\n",
      "  [102 125 133]]\n",
      "\n",
      " [[104  95  91]\n",
      "  [107  98  94]\n",
      "  [112 103 100]\n",
      "  ...\n",
      "  [ 78 104 111]\n",
      "  [ 87 113 120]\n",
      "  [ 91 117 124]]\n",
      "\n",
      " ...\n",
      "\n",
      " [[118 116 122]\n",
      "  [114 112 118]\n",
      "  [124 122 128]\n",
      "  ...\n",
      "  [ 92  88  94]\n",
      "  [101  97 103]\n",
      "  [113 109 115]]\n",
      "\n",
      " [[118 116 122]\n",
      "  [114 112 118]\n",
      "  [124 122 128]\n",
      "  ...\n",
      "  [ 89  85  91]\n",
      "  [ 97  93  99]\n",
      "  [109 105 111]]\n",
      "\n",
      " [[118 116 122]\n",
      "  [114 112 118]\n",
      "  [124 122 128]\n",
      "  ...\n",
      "  [ 85  81  87]\n",
      "  [ 94  90  96]\n",
      "  [106 102 108]]]\n"
     ]
    }
   ],
   "source": [
    "import cv2\n",
    "import numpy as np\n",
    " \n",
    "img = cv2.imread(\"E:\\\\GITHUB\\\\Edge_Detection\\\\Sobel\\\\tesla.jpg\")\n",
    "print(img.shape)\n",
    "print('\\n')\n",
    "print(img)\n"
   ]
  },
  {
   "cell_type": "code",
   "execution_count": 3,
   "metadata": {},
   "outputs": [
    {
     "name": "stdout",
     "output_type": "stream",
     "text": [
      "[[245 247 250 ... 247 250 250]\n",
      " [253 253 253 ... 239 252 252]\n",
      " [246 242 236 ... 132 250 252]\n",
      " ...\n",
      " [255 237  42 ... 132 255 255]\n",
      " [233 255 251 ... 255 255 255]\n",
      " [249 251 255 ... 231 255 255]]\n"
     ]
    }
   ],
   "source": [
    "img_gray_scale = cv2.cvtColor(img, cv2.COLOR_BGR2GRAY)\n",
    "print(img_gray_scale)"
   ]
  },
  {
   "cell_type": "code",
   "execution_count": 20,
   "metadata": {},
   "outputs": [],
   "source": [
    "img = cv2.resize(img, (350,298))\n",
    "img_gray_scale = cv2.resize(img_gray_scale, (350,298))\n",
    "\n",
    "\n",
    "Gblur = cv2.GaussianBlur(img_gray_scale,(5,5),0,0)"
   ]
  },
  {
   "cell_type": "code",
   "execution_count": null,
   "metadata": {},
   "outputs": [],
   "source": []
  },
  {
   "cell_type": "code",
   "execution_count": 21,
   "metadata": {},
   "outputs": [],
   "source": [
    "cv2.imshow(\"Original Image\",img)\n",
    "cv2.imshow(\"GrayScale Image\",img_gray_scale)\n",
    "cv2.imshow(\"Gaussian_Blur_Image\",Gblur)\n",
    "\n",
    "cv2.waitKey(0)\n",
    "cv2.destroyAllWindows()"
   ]
  },
  {
   "cell_type": "code",
   "execution_count": null,
   "metadata": {},
   "outputs": [],
   "source": []
  }
 ],
 "metadata": {
  "kernelspec": {
   "display_name": "DARKTRACE",
   "language": "python",
   "name": "darktrace"
  },
  "language_info": {
   "codemirror_mode": {
    "name": "ipython",
    "version": 3
   },
   "file_extension": ".py",
   "mimetype": "text/x-python",
   "name": "python",
   "nbconvert_exporter": "python",
   "pygments_lexer": "ipython3",
   "version": "3.7.3"
  }
 },
 "nbformat": 4,
 "nbformat_minor": 2
}
