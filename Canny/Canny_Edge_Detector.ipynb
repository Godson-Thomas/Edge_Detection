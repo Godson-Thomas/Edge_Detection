{
 "cells": [
  {
   "cell_type": "code",
   "execution_count": 30,
   "metadata": {},
   "outputs": [
    {
     "name": "stdout",
     "output_type": "stream",
     "text": [
      "(670, 1191, 3)\n",
      "\n",
      "\n",
      "[[[ 7  7  7]\n",
      "  [ 6  6  6]\n",
      "  [ 4  4  4]\n",
      "  ...\n",
      "  [ 2  4  4]\n",
      "  [ 0  0  0]\n",
      "  [ 0  0  0]]\n",
      "\n",
      " [[ 5  5  5]\n",
      "  [ 5  5  5]\n",
      "  [ 4  4  4]\n",
      "  ...\n",
      "  [ 0  2  2]\n",
      "  [ 2  4  4]\n",
      "  [ 4  6  6]]\n",
      "\n",
      " [[ 6  6  6]\n",
      "  [ 7  7  7]\n",
      "  [ 7  7  7]\n",
      "  ...\n",
      "  [ 0  1  0]\n",
      "  [ 7  8  6]\n",
      "  [ 9 10  8]]\n",
      "\n",
      " ...\n",
      "\n",
      " [[ 8  8  8]\n",
      "  [ 7  7  7]\n",
      "  [ 6  6  6]\n",
      "  ...\n",
      "  [ 4  5  9]\n",
      "  [ 3  4  8]\n",
      "  [ 4  5  9]]\n",
      "\n",
      " [[ 7  7  7]\n",
      "  [ 7  7  7]\n",
      "  [ 6  6  6]\n",
      "  ...\n",
      "  [ 0  1  2]\n",
      "  [ 0  1  2]\n",
      "  [ 2  4  5]]\n",
      "\n",
      " [[ 1  1  1]\n",
      "  [ 1  1  1]\n",
      "  [ 1  1  1]\n",
      "  ...\n",
      "  [ 0  0  1]\n",
      "  [ 0  1  2]\n",
      "  [ 2  4  5]]]\n"
     ]
    }
   ],
   "source": [
    "import cv2\n",
    "import numpy as np\n",
    " \n",
    "img = cv2.imread(\"E:\\\\GITHUB\\\\Edge_Detection\\\\Canny\\\\C.jpg\", cv2.IMREAD_COLOR)\n",
    "print(img.shape)\n",
    "print('\\n')\n",
    "print(img)\n"
   ]
  },
  {
   "cell_type": "code",
   "execution_count": 31,
   "metadata": {},
   "outputs": [
    {
     "name": "stdout",
     "output_type": "stream",
     "text": [
      "[[7 6 4 ... 4 0 0]\n",
      " [5 5 4 ... 2 4 6]\n",
      " [6 7 7 ... 1 7 9]\n",
      " ...\n",
      " [8 7 6 ... 6 5 6]\n",
      " [7 7 6 ... 1 1 4]\n",
      " [1 1 1 ... 0 1 4]]\n"
     ]
    }
   ],
   "source": [
    "img_gray_scale = cv2.cvtColor(img, cv2.COLOR_BGR2GRAY)\n",
    "print(img_gray_scale)"
   ]
  },
  {
   "cell_type": "code",
   "execution_count": 32,
   "metadata": {},
   "outputs": [],
   "source": [
    "img = cv2.resize(img, (700,400))\n",
    "img_gray_scale = cv2.resize(img_gray_scale, (700,400))\n",
    "\n",
    "\n",
    "Gblur = cv2.GaussianBlur(img_gray_scale,(5,5),0,0)"
   ]
  },
  {
   "cell_type": "code",
   "execution_count": 33,
   "metadata": {},
   "outputs": [],
   "source": [
    "\n",
    "# 3 X 3 X-direction kernel\n",
    "sobelx = np.array([[-1, 0, 1], [-2, 0, 2], [-1, 0, 1]])\n",
    "\n",
    "# 3x3 Y-direction  kernel\n",
    "sobely = np.array([[-1, -2, -1], [0, 0, 0], [1, 2, 1]])\n",
    "\n",
    "sobel_imgx= cv2.filter2D(Gblur, -1, sobelx)\n",
    "sobel_imgy = cv2.filter2D(Gblur, -1, sobely)\n",
    "\n",
    "sobel_img=sobel_imgx+sobel_imgy\n"
   ]
  },
  {
   "cell_type": "code",
   "execution_count": 56,
   "metadata": {},
   "outputs": [],
   "source": [
    "canny_img = cv2.Canny(sobel_img, threshold1=155, threshold2=250)"
   ]
  },
  {
   "cell_type": "code",
   "execution_count": 57,
   "metadata": {},
   "outputs": [],
   "source": [
    "\n",
    "cv2.imshow(\"Original Image\",img)\n",
    "cv2.imshow(\"Sobel_output\",sobel_img)\n",
    "cv2.imshow(\"Canny_output\",canny_img)\n",
    "\n",
    "\n",
    "cv2.waitKey(0)\n",
    "cv2.destroyAllWindows()"
   ]
  },
  {
   "cell_type": "code",
   "execution_count": null,
   "metadata": {},
   "outputs": [],
   "source": []
  },
  {
   "cell_type": "code",
   "execution_count": null,
   "metadata": {},
   "outputs": [],
   "source": []
  }
 ],
 "metadata": {
  "kernelspec": {
   "display_name": "DARKTRACE",
   "language": "python",
   "name": "darktrace"
  },
  "language_info": {
   "codemirror_mode": {
    "name": "ipython",
    "version": 3
   },
   "file_extension": ".py",
   "mimetype": "text/x-python",
   "name": "python",
   "nbconvert_exporter": "python",
   "pygments_lexer": "ipython3",
   "version": "3.7.3"
  }
 },
 "nbformat": 4,
 "nbformat_minor": 2
}
