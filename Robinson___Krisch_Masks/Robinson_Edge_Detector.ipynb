{
 "cells": [
  {
   "cell_type": "code",
   "execution_count": 8,
   "metadata": {},
   "outputs": [
    {
     "name": "stdout",
     "output_type": "stream",
     "text": [
      "(1619, 2878, 3)\n",
      "\n",
      "\n",
      "[[[244 249 252]\n",
      "  [244 249 252]\n",
      "  [244 249 252]\n",
      "  ...\n",
      "  [146 137 127]\n",
      "  [144 135 125]\n",
      "  [134 125 115]]\n",
      "\n",
      " [[244 249 252]\n",
      "  [244 249 252]\n",
      "  [244 249 252]\n",
      "  ...\n",
      "  [143 134 124]\n",
      "  [142 133 123]\n",
      "  [132 123 113]]\n",
      "\n",
      " [[244 249 252]\n",
      "  [244 249 252]\n",
      "  [244 249 252]\n",
      "  ...\n",
      "  [141 132 122]\n",
      "  [140 131 121]\n",
      "  [132 123 113]]\n",
      "\n",
      " ...\n",
      "\n",
      " [[ 23  29  34]\n",
      "  [ 23  29  34]\n",
      "  [ 22  28  33]\n",
      "  ...\n",
      "  [  0   0   0]\n",
      "  [  0   0   0]\n",
      "  [  0   0   0]]\n",
      "\n",
      " [[ 23  29  34]\n",
      "  [ 22  28  33]\n",
      "  [ 22  28  33]\n",
      "  ...\n",
      "  [  0   0   0]\n",
      "  [  0   0   0]\n",
      "  [  0   0   0]]\n",
      "\n",
      " [[ 22  28  33]\n",
      "  [ 22  28  33]\n",
      "  [ 22  28  33]\n",
      "  ...\n",
      "  [  0   0   0]\n",
      "  [  0   0   0]\n",
      "  [  0   0   0]]]\n"
     ]
    }
   ],
   "source": [
    "import cv2\n",
    "import numpy as np\n",
    " \n",
    "img = cv2.imread(\"E:\\\\GITHUB\\\\Edge_Detection\\\\Robinson___Krisch_Masks\\\\tesla.jpg\", cv2.IMREAD_COLOR)\n",
    "print(img.shape)\n",
    "print('\\n')\n",
    "print(img)\n"
   ]
  },
  {
   "cell_type": "code",
   "execution_count": 9,
   "metadata": {},
   "outputs": [
    {
     "name": "stdout",
     "output_type": "stream",
     "text": [
      "[[249 249 249 ... 135 133 123]\n",
      " [249 249 249 ... 132 131 121]\n",
      " [249 249 249 ... 130 129 121]\n",
      " ...\n",
      " [ 30  30  29 ...   0   0   0]\n",
      " [ 30  29  29 ...   0   0   0]\n",
      " [ 29  29  29 ...   0   0   0]]\n"
     ]
    }
   ],
   "source": [
    "img_gray_scale = cv2.cvtColor(img, cv2.COLOR_BGR2GRAY)\n",
    "print(img_gray_scale)"
   ]
  },
  {
   "cell_type": "code",
   "execution_count": 10,
   "metadata": {},
   "outputs": [],
   "source": [
    "img = cv2.resize(img, (700,400))\n",
    "img_gray_scale = cv2.resize(img_gray_scale, (700,400))\n",
    "\n",
    "\n",
    "Gblur = cv2.GaussianBlur(img_gray_scale,(5,5),0,0)"
   ]
  },
  {
   "cell_type": "code",
   "execution_count": 11,
   "metadata": {},
   "outputs": [],
   "source": [
    "\n",
    "N = np.array([[-1, 0, -1], [-2, 0, 2], [-1, 0, 1]])\n",
    "NW = np.array([[0, 1, 2], [-1, 0, 1], [-2, -1, 0]])\n",
    "W=np.array([[1, 2, 1], [0, 0, 0], [-1, -2, -1]])\n",
    "SW=np.array([[2, 1, 0], [1, 0, -1], [0, -1, -2]])\n",
    "S=np.array([[1, 0, -1], [2, 0, -2], [1, 0, -1]])\n",
    "SE=np.array([[0, -1, -2], [1, 0, -1], [2, 1, 0]])\n",
    "E=np.array([[-1, -2, -1], [0, 0, 0], [1, 2, 1]])\n",
    "NE=np.array([[-2, -1, 0], [-1, 0, 1], [0, 1, 2]])\n",
    "\n",
    "Nimg= cv2.filter2D(Gblur, -1, N)\n",
    "NWimg = cv2.filter2D(Gblur, -1, NW)\n",
    "Wimg = cv2.filter2D(Gblur, -1, W)\n",
    "SWimg = cv2.filter2D(Gblur, -1, SW)\n",
    "Simg = cv2.filter2D(Gblur, -1, S)\n",
    "SEimg = cv2.filter2D(Gblur, -1, SE)\n",
    "Eimg = cv2.filter2D(Gblur, -1, E)\n",
    "NEimg = cv2.filter2D(Gblur, -1, NE)\n",
    "\n",
    "\n",
    "\n",
    "\n",
    "\n",
    "det_img=Nimg+NWimg+Wimg+SWimg+Simg+SEimg+Eimg+NEimg\n"
   ]
  },
  {
   "cell_type": "code",
   "execution_count": 12,
   "metadata": {},
   "outputs": [],
   "source": [
    "cv2.imshow(\"Original Image\",img)\n",
    "#cv2.imshow(\"GrayScale Image\",img_gray_scale)\n",
    "#cv2.imshow(\"Gaussian_Blur_Image\",Gblur)\n",
    "#cv2.imshow(\"N\",Nimg)\n",
    "#cv2.imshow(\"NW\",NWimg)\n",
    "cv2.imshow(\"Edge_Detected_img\",det_img)\n",
    "\n",
    "\n",
    "\n",
    "\n",
    "\n",
    "\n",
    "cv2.waitKey(0)\n",
    "cv2.destroyAllWindows()"
   ]
  },
  {
   "cell_type": "code",
   "execution_count": null,
   "metadata": {},
   "outputs": [],
   "source": []
  },
  {
   "cell_type": "code",
   "execution_count": null,
   "metadata": {},
   "outputs": [],
   "source": []
  }
 ],
 "metadata": {
  "kernelspec": {
   "display_name": "DARKTRACE",
   "language": "python",
   "name": "darktrace"
  },
  "language_info": {
   "codemirror_mode": {
    "name": "ipython",
    "version": 3
   },
   "file_extension": ".py",
   "mimetype": "text/x-python",
   "name": "python",
   "nbconvert_exporter": "python",
   "pygments_lexer": "ipython3",
   "version": "3.7.3"
  }
 },
 "nbformat": 4,
 "nbformat_minor": 2
}
