{
 "cells": [
  {
   "cell_type": "code",
   "execution_count": 6,
   "metadata": {},
   "outputs": [
    {
     "name": "stdout",
     "output_type": "stream",
     "text": [
      "(1200, 1920, 3)\n",
      "\n",
      "\n",
      "[[[62 59 44]\n",
      "  [79 76 61]\n",
      "  [87 81 70]\n",
      "  ...\n",
      "  [10 11  9]\n",
      "  [11 12  8]\n",
      "  [11 12  8]]\n",
      "\n",
      " [[58 55 40]\n",
      "  [76 73 58]\n",
      "  [85 79 66]\n",
      "  ...\n",
      "  [ 7  8  6]\n",
      "  [ 8  9  5]\n",
      "  [ 8  9  5]]\n",
      "\n",
      " [[50 50 32]\n",
      "  [71 69 51]\n",
      "  [83 77 64]\n",
      "  ...\n",
      "  [ 4  5  3]\n",
      "  [ 4  5  1]\n",
      "  [ 4  5  1]]\n",
      "\n",
      " ...\n",
      "\n",
      " [[23 23  7]\n",
      "  [23 23  7]\n",
      "  [24 24  8]\n",
      "  ...\n",
      "  [70 69 49]\n",
      "  [69 67 49]\n",
      "  [62 60 42]]\n",
      "\n",
      " [[33 27  8]\n",
      "  [33 27  8]\n",
      "  [34 29  8]\n",
      "  ...\n",
      "  [58 58 40]\n",
      "  [58 58 42]\n",
      "  [57 57 41]]\n",
      "\n",
      " [[25 18  0]\n",
      "  [26 19  0]\n",
      "  [28 22  0]\n",
      "  ...\n",
      "  [94 94 76]\n",
      "  [92 92 76]\n",
      "  [98 98 82]]]\n"
     ]
    }
   ],
   "source": [
    "import cv2\n",
    "import numpy as np\n",
    " \n",
    "img = cv2.imread(\"E:\\\\GITHUB\\\\Edge_Detection\\\\Prewitt\\\\Building.jpg\", cv2.IMREAD_COLOR)\n",
    "print(img.shape)\n",
    "print('\\n')\n",
    "print(img)\n"
   ]
  },
  {
   "cell_type": "code",
   "execution_count": 7,
   "metadata": {},
   "outputs": [
    {
     "name": "stdout",
     "output_type": "stream",
     "text": [
      "[[55 72 78 ... 10 11 11]\n",
      " [51 69 76 ...  7  8  8]\n",
      " [45 64 74 ...  4  4  4]\n",
      " ...\n",
      " [18 18 19 ... 63 62 55]\n",
      " [22 22 23 ... 53 53 52]\n",
      " [13 14 16 ... 89 87 93]]\n"
     ]
    }
   ],
   "source": [
    "img_gray_scale = cv2.cvtColor(img, cv2.COLOR_BGR2GRAY)\n",
    "print(img_gray_scale)"
   ]
  },
  {
   "cell_type": "code",
   "execution_count": 8,
   "metadata": {},
   "outputs": [],
   "source": [
    "img = cv2.resize(img, (700,400))\n",
    "img_gray_scale = cv2.resize(img_gray_scale, (700,400))\n",
    "\n",
    "\n",
    "Gblur = cv2.GaussianBlur(img_gray_scale,(5,5),0,0)"
   ]
  },
  {
   "cell_type": "code",
   "execution_count": 9,
   "metadata": {},
   "outputs": [],
   "source": [
    "\n",
    "# 3 X 3 X-direction kernel\n",
    "prewittx = np.array([[1, 0, -1], [1, 0, -1], [1, 0, -1]])\n",
    "\n",
    "# 3x3 Y-direction  kernel\n",
    "prewitty = np.array([[-1, -1, -1], [0, 0, 0], [1, 1, 1]])\n",
    "\n",
    "prewitt_imgx= cv2.filter2D(Gblur, -1, prewittx)\n",
    "prewitt_imgy = cv2.filter2D(Gblur, -1, prewitty)\n",
    "\n",
    "prewitt_img=prewitt_imgx+prewitt_imgy\n"
   ]
  },
  {
   "cell_type": "code",
   "execution_count": 10,
   "metadata": {},
   "outputs": [],
   "source": [
    "cv2.imshow(\"Original Image\",img)\n",
    "#cv2.imshow(\"GrayScale Image\",img_gray_scale)\n",
    "#cv2.imshow(\"Gaussian_Blur_Image\",Gblur)\n",
    "cv2.imshow(\"PrewittX\",prewitt_imgx)\n",
    "cv2.imshow(\"PrewittY\",prewitt_imgy)\n",
    "cv2.imshow(\"Edge_Detected_img\",prewitt_img)\n",
    "\n",
    "\n",
    "\n",
    "\n",
    "\n",
    "\n",
    "cv2.waitKey(0)\n",
    "cv2.destroyAllWindows()"
   ]
  },
  {
   "cell_type": "code",
   "execution_count": null,
   "metadata": {},
   "outputs": [],
   "source": []
  },
  {
   "cell_type": "code",
   "execution_count": null,
   "metadata": {},
   "outputs": [],
   "source": []
  }
 ],
 "metadata": {
  "kernelspec": {
   "display_name": "DARKTRACE",
   "language": "python",
   "name": "darktrace"
  },
  "language_info": {
   "codemirror_mode": {
    "name": "ipython",
    "version": 3
   },
   "file_extension": ".py",
   "mimetype": "text/x-python",
   "name": "python",
   "nbconvert_exporter": "python",
   "pygments_lexer": "ipython3",
   "version": "3.7.3"
  }
 },
 "nbformat": 4,
 "nbformat_minor": 2
}
